{
  "cells": [
    {
      "cell_type": "markdown",
      "metadata": {},
      "source": [
        "# Home task: pandas "
      ]
    },
    {
      "cell_type": "code",
      "execution_count": 221,
      "metadata": {
        "id": "8hkAWzV5Hu5u"
      },
      "outputs": [],
      "source": [
        "import pandas as pd"
      ]
    },
    {
      "cell_type": "markdown",
      "metadata": {},
      "source": [
        "### Question 1"
      ]
    },
    {
      "cell_type": "code",
      "execution_count": 222,
      "metadata": {},
      "outputs": [],
      "source": [
        "def answer_one():\n",
        "\n",
        "    # Load energy data from 'Energy Indicators.xls' (which was provided in the repository), skipping header and footer\n",
        "    energy = pd.read_excel('Energy Indicators.xls', skiprows = 17, skipfooter = 38)\n",
        "\n",
        "    # Drop the first two columns\n",
        "    energy = energy.iloc[:, 2:]\n",
        "\n",
        "    # Rename columns\n",
        "    energy.columns = ['Country', 'Energy Supply', 'Energy Supply per Capita', '% Renewable']\n",
        "\n",
        "    # Convert missing data to np.NaN\n",
        "    # Since missing values appear only in columns that are supposed to be numeric, use pd.to_numeric()\n",
        "    for column in energy.columns[1:]:\n",
        "        energy[column] = pd.to_numeric(energy[column], errors = 'coerce')\n",
        "    \n",
        "    # Convert Energy Supply to gigajoules\n",
        "    energy['Energy Supply'] = energy['Energy Supply']*1000000\n",
        "\n",
        "    # Remove digits and text in parentheses from  some country names\n",
        "    energy['Country'] = energy['Country'].str.replace('\\\\d','', regex = True).str.replace(' [(].*', '', regex=True)\n",
        "\n",
        "    # Rename specific countries\n",
        "    countries_mapping = {\n",
        "    'Republic of Korea': 'South Korea',\n",
        "    'United States of America': 'United States',\n",
        "    'United Kingdom of Great Britain and Northern Ireland': 'United Kingdom',\n",
        "    'China, Hong Kong Special Administrative Region': 'Hong Kong'\n",
        "    }\n",
        "    energy['Country'] = energy['Country'].replace(countries_mapping)\n",
        "\n",
        "    # Load GDP data and skip header\n",
        "    GDP = pd.read_csv('API_NY.GDP.MKTP.CD_DS2_en_csv_v2_19294.csv', skiprows = 4)\n",
        "\n",
        "    # Rename specific countries\n",
        "    countries_mapping_gdp = {    \n",
        "    'Korea, Rep.': 'South Korea',\n",
        "     'Iran, Islamic Rep.': 'Iran',\n",
        "     'Hong Kong SAR, China': 'Hong Kong'}\n",
        "    \n",
        "    GDP['Country Name'] = GDP['Country Name'].replace(countries_mapping_gdp)\n",
        "\n",
        "    # Load the \"Sciamgo Journal and Country Rank data for Energy Engineering and Power Technology\"\n",
        "    ScimEn = pd.read_excel('scimagojr.xlsx')\n",
        "\n",
        "    # Keep only GDP columns for 2006-2015 and the 'Country' column\n",
        "    for column in GDP.columns:\n",
        "        if (column.isdigit() and (int(column) < 2006 or int(column) > 2015)) or (not column.isdigit() and column != 'Country Name') :\n",
        "            GDP = GDP.drop(columns = column)\n",
        "\n",
        "    # Merge the three datasets: ScimEn (top 15), energy, and GDP\n",
        "    GDP = GDP.rename(columns={'Country Name': 'Country'})\n",
        "    \n",
        "    merged = pd.merge(\n",
        "    pd.merge(ScimEn.iloc[:15], energy, on='Country'), \n",
        "    GDP, \n",
        "    on='Country'\n",
        "    )\n",
        "\n",
        "    # Drop 'Region' column, as it's not part of the expected output\n",
        "    merged = merged.drop(columns = 'Region')\n",
        "\n",
        "    # Set country names as index\n",
        "    merged = merged.set_index(['Country'])\n",
        "    return merged"
      ]
    },
    {
      "cell_type": "code",
      "execution_count": 223,
      "metadata": {},
      "outputs": [
        {
          "name": "stdout",
          "output_type": "stream",
          "text": [
            "Shape of the result DataFrame:  (15, 20)\n"
          ]
        },
        {
          "data": {
            "text/html": [
              "<div>\n",
              "<style scoped>\n",
              "    .dataframe tbody tr th:only-of-type {\n",
              "        vertical-align: middle;\n",
              "    }\n",
              "\n",
              "    .dataframe tbody tr th {\n",
              "        vertical-align: top;\n",
              "    }\n",
              "\n",
              "    .dataframe thead th {\n",
              "        text-align: right;\n",
              "    }\n",
              "</style>\n",
              "<table border=\"1\" class=\"dataframe\">\n",
              "  <thead>\n",
              "    <tr style=\"text-align: right;\">\n",
              "      <th></th>\n",
              "      <th>Rank</th>\n",
              "      <th>Documents</th>\n",
              "      <th>Citable documents</th>\n",
              "      <th>Citations</th>\n",
              "      <th>Self-citations</th>\n",
              "      <th>Citations per document</th>\n",
              "      <th>H index</th>\n",
              "      <th>Energy Supply</th>\n",
              "      <th>Energy Supply per Capita</th>\n",
              "      <th>% Renewable</th>\n",
              "      <th>2006</th>\n",
              "      <th>2007</th>\n",
              "      <th>2008</th>\n",
              "      <th>2009</th>\n",
              "      <th>2010</th>\n",
              "      <th>2011</th>\n",
              "      <th>2012</th>\n",
              "      <th>2013</th>\n",
              "      <th>2014</th>\n",
              "      <th>2015</th>\n",
              "    </tr>\n",
              "    <tr>\n",
              "      <th>Country</th>\n",
              "      <th></th>\n",
              "      <th></th>\n",
              "      <th></th>\n",
              "      <th></th>\n",
              "      <th></th>\n",
              "      <th></th>\n",
              "      <th></th>\n",
              "      <th></th>\n",
              "      <th></th>\n",
              "      <th></th>\n",
              "      <th></th>\n",
              "      <th></th>\n",
              "      <th></th>\n",
              "      <th></th>\n",
              "      <th></th>\n",
              "      <th></th>\n",
              "      <th></th>\n",
              "      <th></th>\n",
              "      <th></th>\n",
              "      <th></th>\n",
              "    </tr>\n",
              "  </thead>\n",
              "  <tbody>\n",
              "    <tr>\n",
              "      <th>China</th>\n",
              "      <td>1</td>\n",
              "      <td>273437</td>\n",
              "      <td>272374</td>\n",
              "      <td>2336764</td>\n",
              "      <td>1615239</td>\n",
              "      <td>8.55</td>\n",
              "      <td>245</td>\n",
              "      <td>1.271910e+11</td>\n",
              "      <td>93.0</td>\n",
              "      <td>19.75491</td>\n",
              "      <td>2.752119e+12</td>\n",
              "      <td>3.550328e+12</td>\n",
              "      <td>4.594337e+12</td>\n",
              "      <td>5.101691e+12</td>\n",
              "      <td>6.087192e+12</td>\n",
              "      <td>7.551546e+12</td>\n",
              "      <td>8.532185e+12</td>\n",
              "      <td>9.570471e+12</td>\n",
              "      <td>1.047562e+13</td>\n",
              "      <td>1.106157e+13</td>\n",
              "    </tr>\n",
              "    <tr>\n",
              "      <th>United States</th>\n",
              "      <td>2</td>\n",
              "      <td>175891</td>\n",
              "      <td>172431</td>\n",
              "      <td>2230544</td>\n",
              "      <td>724472</td>\n",
              "      <td>12.68</td>\n",
              "      <td>363</td>\n",
              "      <td>9.083800e+10</td>\n",
              "      <td>286.0</td>\n",
              "      <td>11.57098</td>\n",
              "      <td>1.381558e+13</td>\n",
              "      <td>1.447423e+13</td>\n",
              "      <td>1.476986e+13</td>\n",
              "      <td>1.447807e+13</td>\n",
              "      <td>1.504897e+13</td>\n",
              "      <td>1.559973e+13</td>\n",
              "      <td>1.625397e+13</td>\n",
              "      <td>1.688068e+13</td>\n",
              "      <td>1.760814e+13</td>\n",
              "      <td>1.829502e+13</td>\n",
              "    </tr>\n",
              "    <tr>\n",
              "      <th>India</th>\n",
              "      <td>3</td>\n",
              "      <td>55082</td>\n",
              "      <td>53775</td>\n",
              "      <td>463165</td>\n",
              "      <td>162944</td>\n",
              "      <td>8.41</td>\n",
              "      <td>181</td>\n",
              "      <td>3.319500e+10</td>\n",
              "      <td>26.0</td>\n",
              "      <td>14.96908</td>\n",
              "      <td>9.402599e+11</td>\n",
              "      <td>1.216736e+12</td>\n",
              "      <td>1.198895e+12</td>\n",
              "      <td>1.341888e+12</td>\n",
              "      <td>1.675616e+12</td>\n",
              "      <td>1.823052e+12</td>\n",
              "      <td>1.827638e+12</td>\n",
              "      <td>1.856722e+12</td>\n",
              "      <td>2.039126e+12</td>\n",
              "      <td>2.103588e+12</td>\n",
              "    </tr>\n",
              "    <tr>\n",
              "      <th>Japan</th>\n",
              "      <td>4</td>\n",
              "      <td>50523</td>\n",
              "      <td>50065</td>\n",
              "      <td>488062</td>\n",
              "      <td>119930</td>\n",
              "      <td>9.66</td>\n",
              "      <td>193</td>\n",
              "      <td>1.898400e+10</td>\n",
              "      <td>149.0</td>\n",
              "      <td>10.23282</td>\n",
              "      <td>4.601663e+12</td>\n",
              "      <td>4.579751e+12</td>\n",
              "      <td>5.106679e+12</td>\n",
              "      <td>5.289493e+12</td>\n",
              "      <td>5.759072e+12</td>\n",
              "      <td>6.233147e+12</td>\n",
              "      <td>6.272363e+12</td>\n",
              "      <td>5.212328e+12</td>\n",
              "      <td>4.896994e+12</td>\n",
              "      <td>4.444931e+12</td>\n",
              "    </tr>\n",
              "    <tr>\n",
              "      <th>United Kingdom</th>\n",
              "      <td>5</td>\n",
              "      <td>43389</td>\n",
              "      <td>42284</td>\n",
              "      <td>615670</td>\n",
              "      <td>111290</td>\n",
              "      <td>14.19</td>\n",
              "      <td>226</td>\n",
              "      <td>7.920000e+09</td>\n",
              "      <td>124.0</td>\n",
              "      <td>10.60047</td>\n",
              "      <td>2.708442e+12</td>\n",
              "      <td>3.090510e+12</td>\n",
              "      <td>2.929412e+12</td>\n",
              "      <td>2.412840e+12</td>\n",
              "      <td>2.485483e+12</td>\n",
              "      <td>2.663806e+12</td>\n",
              "      <td>2.707090e+12</td>\n",
              "      <td>2.784854e+12</td>\n",
              "      <td>3.064708e+12</td>\n",
              "      <td>2.927911e+12</td>\n",
              "    </tr>\n",
              "  </tbody>\n",
              "</table>\n",
              "</div>"
            ],
            "text/plain": [
              "                Rank  Documents  Citable documents  Citations  Self-citations  \\\n",
              "Country                                                                         \n",
              "China              1     273437             272374    2336764         1615239   \n",
              "United States      2     175891             172431    2230544          724472   \n",
              "India              3      55082              53775     463165          162944   \n",
              "Japan              4      50523              50065     488062          119930   \n",
              "United Kingdom     5      43389              42284     615670          111290   \n",
              "\n",
              "                Citations per document  H index  Energy Supply  \\\n",
              "Country                                                          \n",
              "China                             8.55      245   1.271910e+11   \n",
              "United States                    12.68      363   9.083800e+10   \n",
              "India                             8.41      181   3.319500e+10   \n",
              "Japan                             9.66      193   1.898400e+10   \n",
              "United Kingdom                   14.19      226   7.920000e+09   \n",
              "\n",
              "                Energy Supply per Capita  % Renewable          2006  \\\n",
              "Country                                                               \n",
              "China                               93.0     19.75491  2.752119e+12   \n",
              "United States                      286.0     11.57098  1.381558e+13   \n",
              "India                               26.0     14.96908  9.402599e+11   \n",
              "Japan                              149.0     10.23282  4.601663e+12   \n",
              "United Kingdom                     124.0     10.60047  2.708442e+12   \n",
              "\n",
              "                        2007          2008          2009          2010  \\\n",
              "Country                                                                  \n",
              "China           3.550328e+12  4.594337e+12  5.101691e+12  6.087192e+12   \n",
              "United States   1.447423e+13  1.476986e+13  1.447807e+13  1.504897e+13   \n",
              "India           1.216736e+12  1.198895e+12  1.341888e+12  1.675616e+12   \n",
              "Japan           4.579751e+12  5.106679e+12  5.289493e+12  5.759072e+12   \n",
              "United Kingdom  3.090510e+12  2.929412e+12  2.412840e+12  2.485483e+12   \n",
              "\n",
              "                        2011          2012          2013          2014  \\\n",
              "Country                                                                  \n",
              "China           7.551546e+12  8.532185e+12  9.570471e+12  1.047562e+13   \n",
              "United States   1.559973e+13  1.625397e+13  1.688068e+13  1.760814e+13   \n",
              "India           1.823052e+12  1.827638e+12  1.856722e+12  2.039126e+12   \n",
              "Japan           6.233147e+12  6.272363e+12  5.212328e+12  4.896994e+12   \n",
              "United Kingdom  2.663806e+12  2.707090e+12  2.784854e+12  3.064708e+12   \n",
              "\n",
              "                        2015  \n",
              "Country                       \n",
              "China           1.106157e+13  \n",
              "United States   1.829502e+13  \n",
              "India           2.103588e+12  \n",
              "Japan           4.444931e+12  \n",
              "United Kingdom  2.927911e+12  "
            ]
          },
          "execution_count": 223,
          "metadata": {},
          "output_type": "execute_result"
        }
      ],
      "source": [
        "df = answer_one()\n",
        "print('Shape of the result DataFrame: ',df.shape)\n",
        "df.head()"
      ]
    },
    {
      "cell_type": "markdown",
      "metadata": {},
      "source": [
        "### Question 2\n",
        "What is the average GDP over the last 10 years for each country? (exclude missing values from this calculation.)\n",
        "\n",
        "*This function should return a Series named `avgGDP` with 15 countries and their average GDP sorted in descending order.*"
      ]
    },
    {
      "cell_type": "code",
      "execution_count": 224,
      "metadata": {},
      "outputs": [],
      "source": [
        "def answer_two():\n",
        "    Top15 = answer_one()\n",
        "    avgGDP = Top15.loc[:, '2006':].mean(axis=1).sort_values(ascending=False) # mean() method already ignores NaN values by default\n",
        "    return avgGDP"
      ]
    },
    {
      "cell_type": "code",
      "execution_count": 225,
      "metadata": {},
      "outputs": [
        {
          "data": {
            "text/plain": [
              "Country\n",
              "United States         1.572243e+13\n",
              "China                 6.927707e+12\n",
              "Japan                 5.239642e+12\n",
              "Germany               3.590729e+12\n",
              "United Kingdom        2.777505e+12\n",
              "France                2.692000e+12\n",
              "Italy                 2.152983e+12\n",
              "Brazil                1.988889e+12\n",
              "Russian Federation    1.666746e+12\n",
              "Canada                1.616359e+12\n",
              "India                 1.602352e+12\n",
              "Spain                 1.406644e+12\n",
              "South Korea           1.221328e+12\n",
              "Australia             1.207997e+12\n",
              "Iran                  4.567516e+11\n",
              "dtype: float64"
            ]
          },
          "execution_count": 225,
          "metadata": {},
          "output_type": "execute_result"
        }
      ],
      "source": [
        "answer_two()"
      ]
    },
    {
      "cell_type": "markdown",
      "metadata": {},
      "source": [
        "### Question 3\n",
        "By how much had the GDP changed over the 10 year span for the country with the 6th largest average GDP?\n",
        "\n",
        "*This function should return a single number.*"
      ]
    },
    {
      "cell_type": "code",
      "execution_count": 226,
      "metadata": {},
      "outputs": [],
      "source": [
        "def answer_three():\n",
        "    Top15 = answer_one()\n",
        "\n",
        "    return Top15.loc[answer_two().index[5], '2015'] - Top15.loc[answer_two().index[5], '2006']"
      ]
    },
    {
      "cell_type": "code",
      "execution_count": 227,
      "metadata": {},
      "outputs": [
        {
          "data": {
            "text/plain": [
              "124621907951.68018"
            ]
          },
          "execution_count": 227,
          "metadata": {},
          "output_type": "execute_result"
        }
      ],
      "source": [
        "answer_three()"
      ]
    },
    {
      "cell_type": "markdown",
      "metadata": {},
      "source": [
        "### Question 4\n",
        "\n",
        "Create a new column that is the ratio of Self-Citations to Total Citations. \n",
        "What is the maximum value for this new column, and what country has the highest ratio?\n",
        "\n",
        "*This function should return a tuple with the name of the country and the ratio.*"
      ]
    },
    {
      "cell_type": "code",
      "execution_count": 228,
      "metadata": {},
      "outputs": [],
      "source": [
        "def answer_four():\n",
        "    Top15 = answer_one()\n",
        "    cit_ratio = (Top15['Self-citations']/Top15['Citations']).sort_values(ascending=False)\n",
        "\n",
        "    return (cit_ratio.index[0],cit_ratio.iloc[0])\n"
      ]
    },
    {
      "cell_type": "code",
      "execution_count": 229,
      "metadata": {},
      "outputs": [
        {
          "data": {
            "text/plain": [
              "('China', 0.6912289816173135)"
            ]
          },
          "execution_count": 229,
          "metadata": {},
          "output_type": "execute_result"
        }
      ],
      "source": [
        "answer_four()\n"
      ]
    },
    {
      "cell_type": "markdown",
      "metadata": {},
      "source": [
        "### Question 5\n",
        "\n",
        "Create a column that estimates the population using Energy Supply and Energy Supply per capita. \n",
        "What is the third most populous country according to this estimate?\n",
        "\n",
        "*This function should return a single string value.*"
      ]
    },
    {
      "cell_type": "code",
      "execution_count": 230,
      "metadata": {},
      "outputs": [],
      "source": [
        "def answer_five():\n",
        "    Top15 = answer_one()\n",
        "    population = (Top15['Energy Supply']/Top15['Energy Supply per Capita']).sort_values(ascending=False)\n",
        "    return population.index[2]"
      ]
    },
    {
      "cell_type": "code",
      "execution_count": 231,
      "metadata": {},
      "outputs": [
        {
          "data": {
            "text/plain": [
              "'United States'"
            ]
          },
          "execution_count": 231,
          "metadata": {},
          "output_type": "execute_result"
        }
      ],
      "source": [
        "answer_five()"
      ]
    },
    {
      "cell_type": "markdown",
      "metadata": {},
      "source": [
        "### Question 6\n",
        "Create a column that estimates the number of citable documents per person. \n",
        "What is the correlation between the number of citable documents per capita and the energy supply per capita? Use the `.corr()` method, (Pearson's correlation).\n",
        "\n",
        "*This function should return a single number.*\n"
      ]
    },
    {
      "cell_type": "code",
      "execution_count": 169,
      "metadata": {},
      "outputs": [],
      "source": [
        "def answer_six():\n",
        "    Top15 = answer_one()\n",
        "    Top15['Citable Documents per Capita'] = Top15['Citable documents']/(Top15['Energy Supply']/Top15['Energy Supply per Capita'])\n",
        "    \n",
        "    return Top15[['Citable Documents per Capita','Energy Supply per Capita']].corr().iloc[0,1] # Pearson's correlation is a default method\n"
      ]
    },
    {
      "cell_type": "code",
      "execution_count": 232,
      "metadata": {},
      "outputs": [
        {
          "data": {
            "text/plain": [
              "0.7434709127726777"
            ]
          },
          "execution_count": 232,
          "metadata": {},
          "output_type": "execute_result"
        }
      ],
      "source": [
        "answer_six()"
      ]
    },
    {
      "cell_type": "markdown",
      "metadata": {},
      "source": [
        "### Question 7\n",
        "Use the following dictionary to group the Countries by Continent, then create a dateframe that displays the sample size (the number of countries in each continent bin), and the sum, mean, and std deviation for the estimated population of each country.\n",
        "\n",
        "```python\n",
        "ContinentDict  = {'China':'Asia', \n",
        "                  'United States':'North America', \n",
        "                  'Japan':'Asia', \n",
        "                  'United Kingdom':'Europe', \n",
        "                  'Russian Federation':'Europe', \n",
        "                  'Canada':'North America', \n",
        "                  'Germany':'Europe', \n",
        "                  'India':'Asia',\n",
        "                  'France':'Europe', \n",
        "                  'South Korea':'Asia', \n",
        "                  'Italy':'Europe', \n",
        "                  'Spain':'Europe', \n",
        "                  'Iran':'Asia',\n",
        "                  'Australia':'Australia', \n",
        "                  'Brazil':'South America'}\n",
        "```\n",
        "\n",
        "*This function should return a DataFrame with index named Continent `['Asia', 'Australia', 'Europe', 'North America', 'South America']` and columns `['size', 'sum', 'mean', 'std']`*"
      ]
    },
    {
      "cell_type": "code",
      "execution_count": null,
      "metadata": {},
      "outputs": [],
      "source": [
        "def answer_seven():\n",
        "    Top15 = answer_one()\n",
        "    \n",
        "    Top15['Population'] = Top15['Energy Supply']/Top15['Energy Supply per Capita']\n",
        "    \n",
        "    ContinentDict  = {'China':'Asia', \n",
        "                  'United States':'North America', \n",
        "                  'Japan':'Asia', \n",
        "                  'United Kingdom':'Europe', \n",
        "                  'Russian Federation':'Europe', \n",
        "                  'Canada':'North America', \n",
        "                  'Germany':'Europe', \n",
        "                  'India':'Asia',\n",
        "                  'France':'Europe', \n",
        "                  'South Korea':'Asia', \n",
        "                  'Italy':'Europe', \n",
        "                  'Spain':'Europe', \n",
        "                  'Iran':'Asia',\n",
        "                  'Australia':'Australia', \n",
        "                  'Brazil':'South America'}\n",
        "\n",
        "    Top15['Continent'] = Top15.index.to_series().replace(ContinentDict)\n",
        "\n",
        "    continet_population = Top15.groupby('Continent')['Population'].agg(['size', 'sum', 'mean', 'std'])\n",
        "    continet_population['std'] = continet_population['std'].fillna(0)\n",
        "    \n",
        "    return continet_population"
      ]
    },
    {
      "cell_type": "code",
      "execution_count": 217,
      "metadata": {},
      "outputs": [
        {
          "data": {
            "text/html": [
              "<div>\n",
              "<style scoped>\n",
              "    .dataframe tbody tr th:only-of-type {\n",
              "        vertical-align: middle;\n",
              "    }\n",
              "\n",
              "    .dataframe tbody tr th {\n",
              "        vertical-align: top;\n",
              "    }\n",
              "\n",
              "    .dataframe thead th {\n",
              "        text-align: right;\n",
              "    }\n",
              "</style>\n",
              "<table border=\"1\" class=\"dataframe\">\n",
              "  <thead>\n",
              "    <tr style=\"text-align: right;\">\n",
              "      <th></th>\n",
              "      <th>size</th>\n",
              "      <th>sum</th>\n",
              "      <th>mean</th>\n",
              "      <th>std</th>\n",
              "    </tr>\n",
              "    <tr>\n",
              "      <th>Continent</th>\n",
              "      <th></th>\n",
              "      <th></th>\n",
              "      <th></th>\n",
              "      <th></th>\n",
              "    </tr>\n",
              "  </thead>\n",
              "  <tbody>\n",
              "    <tr>\n",
              "      <th>Asia</th>\n",
              "      <td>5</td>\n",
              "      <td>2.898666e+09</td>\n",
              "      <td>5.797333e+08</td>\n",
              "      <td>6.790979e+08</td>\n",
              "    </tr>\n",
              "    <tr>\n",
              "      <th>Australia</th>\n",
              "      <td>1</td>\n",
              "      <td>2.331602e+07</td>\n",
              "      <td>2.331602e+07</td>\n",
              "      <td>0.000000e+00</td>\n",
              "    </tr>\n",
              "    <tr>\n",
              "      <th>Europe</th>\n",
              "      <td>6</td>\n",
              "      <td>4.579297e+08</td>\n",
              "      <td>7.632161e+07</td>\n",
              "      <td>3.464767e+07</td>\n",
              "    </tr>\n",
              "    <tr>\n",
              "      <th>North America</th>\n",
              "      <td>2</td>\n",
              "      <td>3.528552e+08</td>\n",
              "      <td>1.764276e+08</td>\n",
              "      <td>1.996696e+08</td>\n",
              "    </tr>\n",
              "    <tr>\n",
              "      <th>South America</th>\n",
              "      <td>1</td>\n",
              "      <td>2.059153e+08</td>\n",
              "      <td>2.059153e+08</td>\n",
              "      <td>0.000000e+00</td>\n",
              "    </tr>\n",
              "  </tbody>\n",
              "</table>\n",
              "</div>"
            ],
            "text/plain": [
              "               size           sum          mean           std\n",
              "Continent                                                    \n",
              "Asia              5  2.898666e+09  5.797333e+08  6.790979e+08\n",
              "Australia         1  2.331602e+07  2.331602e+07  0.000000e+00\n",
              "Europe            6  4.579297e+08  7.632161e+07  3.464767e+07\n",
              "North America     2  3.528552e+08  1.764276e+08  1.996696e+08\n",
              "South America     1  2.059153e+08  2.059153e+08  0.000000e+00"
            ]
          },
          "execution_count": 217,
          "metadata": {},
          "output_type": "execute_result"
        }
      ],
      "source": [
        "answer_seven()"
      ]
    }
  ],
  "metadata": {
    "colab": {
      "provenance": []
    },
    "kernelspec": {
      "display_name": "Python 3",
      "name": "python3"
    },
    "language_info": {
      "codemirror_mode": {
        "name": "ipython",
        "version": 3
      },
      "file_extension": ".py",
      "mimetype": "text/x-python",
      "name": "python",
      "nbconvert_exporter": "python",
      "pygments_lexer": "ipython3",
      "version": "3.12.2"
    }
  },
  "nbformat": 4,
  "nbformat_minor": 0
}
