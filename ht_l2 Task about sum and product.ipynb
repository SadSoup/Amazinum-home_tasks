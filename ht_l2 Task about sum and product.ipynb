{
 "cells": [
  {
   "cell_type": "markdown",
   "id": "40094e6a",
   "metadata": {},
   "source": [
    "# Task about sum and product \n",
    "\n",
    "```\n",
    "There are two whole numbers:\n",
    "1 < a,b <100\n",
    "\n",
    "One scientist(\"Sum\") get provided with sum of numbers,\n",
    "another  (\"Prod\") get provided with product of numbers. \n",
    "Both scientists know that numbers 1 < a,b <100.\n",
    "\n",
    "Determine the numbers being based on the following dialog: \n",
    "    Prod: I don't know the numbers;\n",
    "    Sum: I know it;\n",
    "    Prod: then I know the numbers; \n",
    "    Sum: then I know the numbers too.\n",
    "```"
   ]
  },
  {
   "cell_type": "markdown",
   "id": "f11d0379",
   "metadata": {},
   "source": [
    "## Condition 1"
   ]
  },
  {
   "cell_type": "markdown",
   "id": "aed81bf8",
   "metadata": {},
   "source": [
    "Firstly, Prod says:\n",
    "```\n",
    "Prod: I don't know the numbers;\n",
    "```\n",
    "This tells us that the product does not correspond to a unique pair of integers —  in other words, **there is more than one possible pair of numbers (a, b) such that a * b equals the product**.\n",
    "\n",
    "So, we filter out all products that have only one possible pair of factors, and keep only those with multiple (ambiguous) pairs."
   ]
  },
  {
   "cell_type": "code",
   "execution_count": 5,
   "id": "c5c81ecb",
   "metadata": {},
   "outputs": [
    {
     "data": {
      "text/plain": [
       "[(4, [(2, 2)]),\n",
       " (6, [(2, 3)]),\n",
       " (8, [(2, 4)]),\n",
       " (10, [(2, 5)]),\n",
       " (12, [(2, 6), (3, 4)])]"
      ]
     },
     "execution_count": 5,
     "metadata": {},
     "output_type": "execute_result"
    }
   ],
   "source": [
    "# Find all possible products of a and b\n",
    "\n",
    "all_products = {}\n",
    "for i in range(2,100):\n",
    "    for j in range(i,100):\n",
    "        if i*j in all_products.keys():\n",
    "            all_products[i*j].append((i,j))\n",
    "        else:\n",
    "            all_products[i*j] = [(i,j)]\n",
    "\n",
    "list(all_products.items())[:5]"
   ]
  },
  {
   "cell_type": "code",
   "execution_count": 6,
   "id": "9ca25080",
   "metadata": {},
   "outputs": [
    {
     "data": {
      "text/plain": [
       "[(12, [(2, 6), (3, 4)]),\n",
       " (16, [(2, 8), (4, 4)]),\n",
       " (18, [(2, 9), (3, 6)]),\n",
       " (20, [(2, 10), (4, 5)]),\n",
       " (24, [(2, 12), (3, 8), (4, 6)])]"
      ]
     },
     "execution_count": 6,
     "metadata": {},
     "output_type": "execute_result"
    }
   ],
   "source": [
    "# Keep only products that have more than one possible pair of factors\n",
    "products_c1 = {}\n",
    "\n",
    "for k, v in all_products.items():\n",
    "    if len(v)>1:\n",
    "        products_c1[k] = v\n",
    "\n",
    "list(products_c1.items())[:5]"
   ]
  },
  {
   "cell_type": "markdown",
   "id": "5f61bb00",
   "metadata": {},
   "source": [
    "## Condition 2"
   ]
  },
  {
   "cell_type": "markdown",
   "id": "43651a7d",
   "metadata": {},
   "source": [
    "```\n",
    "Sum: I know it;\n",
    "```\n",
    "Sum could only be sure that Prod doesn't know the numbers if **all possible addend pairs that result in this sum lead to products that satisfy Сondition 1**."
   ]
  },
  {
   "cell_type": "code",
   "execution_count": null,
   "id": "a5e71a18",
   "metadata": {},
   "outputs": [],
   "source": [
    "def all_addens_satisfy1(factors, products_c1):\n",
    "    \"\"\"\n",
    "    Checks whether all possible addend pairs for the sum of given factors lead to products that satisfy Condition 1.\n",
    "\n",
    "    Parameters:\n",
    "        factors (tuple): A pair of numbers (a, b) whose sum we want to test.\n",
    "        products_c1 (dict): Dictionary of {product: list of possible factors} that satisfy Condition 1.\n",
    "\n",
    "    Returns:\n",
    "        bool: True if all products formed by possible addend pairs are in products_c1.\n",
    "    \"\"\"\n",
    "    # Generate all possible addend pairs (a, b) such that a + b = sum(factors) and a <= b (to avoid duplicates), \n",
    "    # then compute their products\n",
    "    products_of_addens = [\n",
    "        a*(sum(factors)-a) \n",
    "        for a in range(2,sum(factors)-1) \n",
    "        if a<=(sum(factors)-a)]\n",
    "\n",
    "    return all([el in products_c1 for el in products_of_addens])\n",
    "\n",
    "    "
   ]
  },
  {
   "cell_type": "markdown",
   "id": "161768ce",
   "metadata": {},
   "source": [
    "## Condition 3"
   ]
  },
  {
   "cell_type": "markdown",
   "id": "a355e786",
   "metadata": {},
   "source": [
    "```\n",
    "Prod: then I know the numbers; \n",
    "```\n",
    "Prod can figure out the numbers only if **there is exactly one possible factor pair** for which the sum satisfies **Condition 2**."
   ]
  },
  {
   "cell_type": "code",
   "execution_count": null,
   "id": "ad7e177d",
   "metadata": {},
   "outputs": [
    {
     "data": {
      "text/plain": [
       "[(18, 11), (24, 11), (28, 11), (50, 27), (52, 17)]"
      ]
     },
     "execution_count": 12,
     "metadata": {},
     "output_type": "execute_result"
    }
   ],
   "source": [
    "# This code snippet keeps only products that have exactly one factor pair whose sum satisfies Condition 2, \n",
    "# and returns a dictionary in the form (product: sum).\n",
    "prod_and_sum = {}\n",
    "for k, v in products_c1.items():\n",
    "    num_of_sums = 0\n",
    "    for factors in v:\n",
    "        if all_addens_satisfy1(factors, products_c1):\n",
    "            # сount how many factor pairs lead to a sum that satisfies Condition 2\n",
    "            num_of_sums += 1\n",
    "            if num_of_sums == 1:\n",
    "                sum_num = sum(factors)\n",
    "    # Condition 3 is satisfied only when exactly one such sum exists\n",
    "    if num_of_sums == 1:\n",
    "        prod_and_sum[k] = sum_num\n",
    "\n",
    "\n",
    "list(prod_and_sum.items())[:5]"
   ]
  },
  {
   "cell_type": "markdown",
   "id": "a704aba8",
   "metadata": {},
   "source": [
    "## Condition 4"
   ]
  },
  {
   "cell_type": "markdown",
   "id": "5a12114c",
   "metadata": {},
   "source": [
    "```\n",
    "Sum: then I know the numbers too.\n",
    "```\n",
    "Sum could figure out the numbers only if **the product of exactly one pair of potential addends satisfies condition 3.** In other words, the correct sum will appear in the dictionary only once."
   ]
  },
  {
   "cell_type": "code",
   "execution_count": null,
   "id": "9abf954b",
   "metadata": {},
   "outputs": [
    {
     "name": "stdout",
     "output_type": "stream",
     "text": [
      "Counter({53: 18, 41: 13, 47: 13, 35: 10, 27: 9, 29: 9, 37: 7, 11: 3, 23: 3, 17: 1})\n",
      "Sum: 17\n"
     ]
    }
   ],
   "source": [
    "from collections import Counter\n",
    "\n",
    "# Check how often each sum occurs in the dictionary\n",
    "sum_counts = Counter(prod_and_sum.values())\n",
    "print(sum_counts)\n",
    "\n",
    "for k, v in sum_counts.items():\n",
    "    if v == 1:\n",
    "        correct_sum = k\n",
    "        break\n",
    "print(f'Sum: {correct_sum}')"
   ]
  },
  {
   "cell_type": "markdown",
   "id": "a9bc16b9",
   "metadata": {},
   "source": [
    "## Answer"
   ]
  },
  {
   "cell_type": "markdown",
   "id": "4465cd32",
   "metadata": {},
   "source": [
    "Since the sum is found and there are dictionaries with products, sums, and factors, the product and the pair (a, b) can be determined too."
   ]
  },
  {
   "cell_type": "code",
   "execution_count": null,
   "id": "6e114e4a",
   "metadata": {},
   "outputs": [
    {
     "name": "stdout",
     "output_type": "stream",
     "text": [
      "a and b = (4, 13)\n"
     ]
    }
   ],
   "source": [
    "# Find the product corresponding to the correct sum\n",
    "for k,v in prod_and_sum.items():\n",
    "    if v == correct_sum:\n",
    "        correct_prod = k\n",
    "        break\n",
    "\n",
    "# Find the pair (a, b) corresponding to the correct product and sum\n",
    "for addens in products_c1[correct_prod]:\n",
    "    if sum(addens) == correct_sum:\n",
    "        print(f'a and b = {addens}')"
   ]
  }
 ],
 "metadata": {
  "kernelspec": {
   "display_name": "py310",
   "language": "python",
   "name": "python3"
  },
  "language_info": {
   "codemirror_mode": {
    "name": "ipython",
    "version": 3
   },
   "file_extension": ".py",
   "mimetype": "text/x-python",
   "name": "python",
   "nbconvert_exporter": "python",
   "pygments_lexer": "ipython3",
   "version": "3.10.14"
  }
 },
 "nbformat": 4,
 "nbformat_minor": 5
}
